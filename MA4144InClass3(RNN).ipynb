{
  "cells": [
    {
      "cell_type": "markdown",
      "id": "dda0e25f-476a-43c0-b3e7-f96a707be566",
      "metadata": {
        "id": "dda0e25f-476a-43c0-b3e7-f96a707be566"
      },
      "source": [
        "# <center>Recurrent Neural Networks</center>\n",
        "## <center>Inclass Project 3 - MA4144</center>\n",
        "\n",
        "This project contains 10 tasks/questions to be completed, some require written answers. Open a markdown cell below the respective question that require written answers and provide (type) your answers. Questions that required written answers are given in blue fonts. Almost all written questions are open ended, they do not have a correct or wrong answer. You are free to give your opinions, but please provide related answers within the context.\n",
        "\n",
        "After finishing project run the entire notebook once and **save the notebook as a pdf** (File menu -> Save and Export Notebook As -> PDF). You are **required to upload this PDF on moodle**.\n",
        "\n",
        "***"
      ]
    },
    {
      "cell_type": "markdown",
      "id": "03930b71-f7aa-4eb8-a078-70fc89a1ac16",
      "metadata": {
        "id": "03930b71-f7aa-4eb8-a078-70fc89a1ac16"
      },
      "source": [
        "## Outline of the project\n",
        "\n",
        "The aim of the project is to build a RNN model to suggest autocompletion of half typed words. You may have seen this in many day today applications; typing an email, a text message etc. For example, suppose you type in the four letter \"univ\", the application may suggest you to autocomplete it by \"university\".\n",
        "\n",
        "![Autocomplete](https://d33v4339jhl8k0.cloudfront.net/docs/assets/5c12e83004286304a71d5b72/images/66d0cb106eb51e63b8f9fbc6/file-gBQe016VYt.gif)\n",
        "\n",
        "We will train a RNN to suggest possible autocompletes given $3$ - $4$ starting letters. That is if we input a string \"univ\" hopefully we expect to see an output like \"university\", \"universal\" etc.\n",
        "\n",
        "For this we will use a text file (wordlist.txt) containing 10,000 common English words (you'll find the file on the moodle link). The list of words will be the \"**vocabulary**\" for our model.\n",
        "\n",
        "We will use the Python **torch library** to implement our autocomplete model.\n",
        "\n",
        "***\n"
      ]
    },
    {
      "cell_type": "markdown",
      "id": "f4db6bc0-f7e0-473d-a172-e6579deea2ee",
      "metadata": {
        "id": "f4db6bc0-f7e0-473d-a172-e6579deea2ee"
      },
      "source": [
        "Use the below cell to use any include any imports"
      ]
    },
    {
      "cell_type": "code",
      "execution_count": null,
      "id": "76fdc286-3211-4a8f-9802-29d28a324bea",
      "metadata": {
        "id": "76fdc286-3211-4a8f-9802-29d28a324bea"
      },
      "outputs": [],
      "source": [
        "import torch\n",
        "import torch.nn as nn\n",
        "import torch.optim as optim\n",
        "import numpy as np\n",
        "import matplotlib.pyplot as plt\n",
        "import random\n",
        "import torch.nn.functional as F"
      ]
    },
    {
      "cell_type": "markdown",
      "id": "8622b61b-dba8-47bb-8e07-92b77e78f4fa",
      "metadata": {
        "id": "8622b61b-dba8-47bb-8e07-92b77e78f4fa"
      },
      "source": [
        "## Section 1: Preparing the vocabulary"
      ]
    },
    {
      "cell_type": "code",
      "execution_count": null,
      "id": "555a82e5-e56c-4075-a2a2-071633cd4d4c",
      "metadata": {
        "id": "555a82e5-e56c-4075-a2a2-071633cd4d4c"
      },
      "outputs": [],
      "source": [
        "WORD_SIZE = 13"
      ]
    },
    {
      "cell_type": "markdown",
      "id": "ef4f44ef-91d0-4d0e-afb5-a66240c9e1d4",
      "metadata": {
        "id": "ef4f44ef-91d0-4d0e-afb5-a66240c9e1d4"
      },
      "source": [
        "**Q1.** In the following cell provide code to load the text file (each word is in a newline), then extract the words (in lowercase) into a list.\n",
        "\n",
        "For practical reasons of training the model we will only use words that are longer that $3$ letters and that have a maximum length of WORD_SIZE (this will be a constant we set at the beginning - you can change this and experiment with different WORD_SIZEs). As seen above it is set to $13$.\n",
        "\n",
        "So out of the extracted list of words filter out those words that match our criteria on word length.\n",
        "\n",
        "To train our model it is convenient to have words/strings of equal length. We will choose to convert every word to length of WORD_SIZE, by adding underscores to the end of the word if it is initially shorter than WORD_SIZE. For example, we will convert the word \"university\" (word length 10) into \"university___\" (wordlength 13). In your code include this conversion as well.\n",
        "\n",
        "Store the processed WORD_SIZE lengthed strings in a list called vocab."
      ]
    },
    {
      "cell_type": "code",
      "execution_count": null,
      "id": "9c462e6d",
      "metadata": {
        "colab": {
          "base_uri": "https://localhost:8080/"
        },
        "id": "9c462e6d",
        "outputId": "ebef6706-7b4f-4b67-f907-06eeffc1e6d8"
      },
      "outputs": [
        {
          "output_type": "stream",
          "name": "stdout",
          "text": [
            "['aaron________', 'abandoned____', 'aberdeen_____', 'abilities____', 'ability______', 'able_________', 'aboriginal___', 'abortion_____', 'about________', 'above________']\n"
          ]
        }
      ],
      "source": [
        "with open('wordlist.txt', 'r') as file:\n",
        "    words = file.read().splitlines()\n",
        "\n",
        "vocab = [word.lower() for word in words if len(word) > 3 and len(word) <= WORD_SIZE]\n",
        "vocab = [word.ljust(WORD_SIZE, '_') for word in vocab]\n",
        "print(vocab[:10])  # Show first 10 words\n"
      ]
    },
    {
      "cell_type": "markdown",
      "id": "69d3a6fe-c0a7-4808-aa1a-4c3ad6db6de3",
      "metadata": {
        "id": "69d3a6fe-c0a7-4808-aa1a-4c3ad6db6de3"
      },
      "source": [
        "<font color='blue'>In the above explanation it was mentioned \"for practical reasons of training the model we will only use words that are longer that $3$ letters and that have a certain maximum length\". In your opinion what could be those practical? Will hit help to build a better model?</font>"
      ]
    },
    {
      "cell_type": "markdown",
      "id": "aaf86cdd-96b2-40eb-8230-c3f04e93cfc4",
      "metadata": {
        "id": "aaf86cdd-96b2-40eb-8230-c3f04e93cfc4"
      },
      "source": [
        "**Answer** (to write answers edit this cell)\n",
        "1.   Reducing Complexity and Model Size - Limiting the word length reduces the total number of characters the model needs to process, which directly reduces the complexity of the model. Fewer parameters mean faster training and lower computational requirements.\n",
        "\n",
        "1.    Improving Data Quality - Very short words (like \"a\", \"an\", \"to\", \"is\") may not be useful for word autocompletion since they don’t provide enough information to build a meaningful prediction. Removing words shorter than 3 characters filters out these noisy and less informative data points.\n",
        "2.  Memory and Efficiency Constraints - If include extremely long words, the amount of memory required to store and process sequences increases for deep learning models. This can lead to slower training and potential memory issues.\n"
      ]
    },
    {
      "cell_type": "markdown",
      "id": "552b2e6d-f771-4782-8b21-73c121565faa",
      "metadata": {
        "id": "552b2e6d-f771-4782-8b21-73c121565faa"
      },
      "source": [
        "**Q2** To input words into the model, we will need to convert each letter/character into a number. as we have seen above, the only characters in our list vocab will be the underscore and lowercase english letters. so we will convert these $27$ characters into numbers as follows: underscore -> $0$, 'a' -> $1$, 'b' -> $2$, $\\cdots$, 'z' -> $26$. In the following cell,\n",
        "\n",
        "(i) Implement a method called char_to_num, that takes in a valid character and outputs its numerical assignment.\n",
        "\n",
        "(ii) Implement a method called num_to_char, that takes in a valid number from $0$ to $26$ and outputs the corresponding character.\n",
        "\n",
        "(iii) Implement a method called word_to_numlist, that takes in a word from our vocabulary and outputs a (torch) tensor of numbers that corresponds to each character in the word in that order. For example: the word \"united_______\" will be converted to tensor([21, 14,  9, 20,  5,  4,  0,  0,  0,  0,  0,  0,  0]). You are encouraged to use your char_to_num method for this.\n",
        "\n",
        "(iv) Implement a method called numlist_to_word, that does the opposite of the above described word_to_numlist, given a tensor of numbers from $0$ to $26$, outputs the corresponding word. You are encouraged to use your  num_to_char method for this.\n",
        "\n",
        "Note: As mentioned since we are using the torch library we will be using tensors instead of the usual python lists or numpy arrays. Tensors are the list equivalent in torch. Torch models only accept tensors as input and they output tensors."
      ]
    },
    {
      "cell_type": "code",
      "execution_count": null,
      "id": "wybFcUBMD7yc",
      "metadata": {
        "id": "wybFcUBMD7yc"
      },
      "outputs": [],
      "source": [
        "def char_to_num(char):\n",
        "    if char == '_':\n",
        "        return 0\n",
        "    else:\n",
        "        return ord(char) - ord('a') + 1\n",
        "\n",
        "\n",
        "def num_to_char(num):\n",
        "    if num == 0:\n",
        "        return '_'\n",
        "    else:\n",
        "        return chr(num + ord('a') - 1)\n",
        "\n",
        "def word_to_numlist(word):\n",
        "    numlist = [char_to_num(char) for char in word]\n",
        "    return torch.tensor(numlist)\n",
        "\n",
        "def numlist_to_word(numlist):\n",
        "    word = ''.join([num_to_char(num.item()) for num in numlist])\n",
        "    return word\n"
      ]
    },
    {
      "cell_type": "markdown",
      "id": "028d1936-fadb-4ddb-9027-3a75960aa6b1",
      "metadata": {
        "id": "028d1936-fadb-4ddb-9027-3a75960aa6b1"
      },
      "source": [
        "<font color='blue'>We convert letter into just numbers based on their aphabetical order, I claim that it is a very bad way to encode data such as letters to be fed into learning models, please write your explanation to or against my claim. If you are searching for reasons, the keyword 'categorical data' may be useful. Although the letters in our case are not treated as categorical data, the same reasons as for categorical data is applicable. Even if my claim is valid, at the end it won't matter due to something called \"embedding layers\" that we will use in our model. What is an embedding layer? What is it's purpose? Explain.</font>"
      ]
    },
    {
      "cell_type": "markdown",
      "id": "65de3f69-cd06-4adc-8150-2522802f345a",
      "metadata": {
        "id": "65de3f69-cd06-4adc-8150-2522802f345a"
      },
      "source": [
        "**Answer** (to write answers edit this cell)\n",
        "\n",
        "**Why Alphabetical Order Encoding is Not Ideal:**\n",
        "\n",
        "1.   Imposes False Relationships: When we map letters to numbers based on alphabetical order, we introduce an unintended ordinal relationship between them. For example, 'a' becomes 1, 'b' becomes 2, and so on, implying that 'b' is somehow \"larger\" or \"closer\" to 'a' than 'z'. In reality, letters don't have such a natural order, and this ordering creates a false sense of proximity between letters, which can confuse the learning process.\n",
        "2.   Equal Distance Assumption: In numerical encoding, the model may assume that the distance between consecutive letters (like 'a' and 'b') is the same as the distance between letters far apart (like 'a' and 'z'). This assumption is not true and leads to inefficiencies in learning.\n",
        "3.  Lack of Semantic Representation: The simple alphabetical encoding does not capture any meaningful relationship between letters or how they appear in different contexts (e.g., 'q' is often followed by 'u'). As a result, the model may struggle to generalize patterns in the data.\n",
        "\n",
        "**What is an Embedding Layer?**\n",
        "An embedding layer is a type of neural network layer that maps discrete input data (like letters or words) to continuous-valued dense vectors in a lower-dimensional space. Each letter is represented as a multi-dimensional vector where each dimension captures some feature or aspect of the letter.\n",
        "\n",
        "**Purpose of an Embedding Layer:**\n",
        "\n",
        "1.   Capturing Semantic Relationships: Unlike the naive alphabetical encoding, an embedding layer learns to represent each letter (or word) as a vector where the distance between vectors reflects meaningful relationships.\n",
        "2.   Dimensionality Reduction: Embedding layers project high-dimensional data (like the 27 unique characters) into a much lower-dimensional vector space, which simplifies the model's learning process without losing the necessary information.\n",
        "3. Learning from Data: Embeddings are not hard-coded but learned during training. The model adjusts the vectors based on how useful they are for predicting outputs. This way, the model can capture more complex relationships and patterns between letters based on the specific task.\n",
        "\n",
        "\n",
        "\n",
        "\n",
        "\n",
        "\n",
        "\n",
        "\n",
        "\n",
        "\n"
      ]
    },
    {
      "cell_type": "markdown",
      "id": "92070a74-0f42-435d-a3ba-b38f0d1aaf3c",
      "metadata": {
        "id": "92070a74-0f42-435d-a3ba-b38f0d1aaf3c"
      },
      "source": [
        "## Section 2: Implementing the Autocomplete model"
      ]
    },
    {
      "cell_type": "markdown",
      "id": "6cbb965e-afcd-41ae-86f0-2f3d4682e18b",
      "metadata": {
        "id": "6cbb965e-afcd-41ae-86f0-2f3d4682e18b"
      },
      "source": [
        "We will implement a RNN model based on LSTM. The [video tutorial](https://www.youtube.com/watch?v=tL5puCeDr-o) will be useful. Our model will be only one hidden layer, but feel free to sophisticate with more layers after the project for your own experiments.\n",
        "\n",
        "Our model will contain all the training and prediction methods as single package in a class (autocompleteModel) we will define and implement below."
      ]
    },
    {
      "cell_type": "code",
      "execution_count": null,
      "id": "0dfe311c-669d-4d58-a833-ae3970b6d271",
      "metadata": {
        "id": "0dfe311c-669d-4d58-a833-ae3970b6d271"
      },
      "outputs": [],
      "source": [
        "LEARNING_RATE = 0.005"
      ]
    },
    {
      "cell_type": "code",
      "execution_count": null,
      "id": "Nm5ppH-aMQae",
      "metadata": {
        "id": "Nm5ppH-aMQae"
      },
      "outputs": [],
      "source": [
        "class autocompleteModel(nn.Module):\n",
        "\n",
        "    #Constructor\n",
        "    def __init__(self, alphabet_size, embed_dim, hidden_size, num_layers):\n",
        "        super().__init__()\n",
        "        self.alphabet_size = alphabet_size\n",
        "        self.embed_dim = embed_dim\n",
        "        self.hidden_size = hidden_size\n",
        "        self.num_layers = num_layers\n",
        "        self.embedding = nn.Embedding(alphabet_size, embed_dim)\n",
        "        self.lstm = nn.LSTM(embed_dim, hidden_size, num_layers)\n",
        "        self.fc = nn.Linear(hidden_size, alphabet_size)\n",
        "\n",
        "\n",
        "    def forward(self, character, hidden_state, cell_state):\n",
        "        embedded = self.embedding(character)\n",
        "        lstm_out, (hidden_state, cell_state) = self.lstm(embedded.view(1, 1, -1), (hidden_state, cell_state))\n",
        "        output = self.fc(lstm_out.view(-1))\n",
        "        return output, hidden_state, cell_state\n",
        "\n",
        "\n",
        "    def initial_state(self):\n",
        "        h0 = torch.zeros(self.num_layers, 1, self.hidden_size)\n",
        "        c0 = torch.zeros(self.num_layers, 1, self.hidden_size)\n",
        "        return (h0, c0)\n",
        "\n",
        "\n",
        "    def trainModel(self, vocab, epochs = 5, batch_size = 100):\n",
        "        self.train()\n",
        "        optimizer = optim.Adam(self.parameters(), lr=learning_rate)\n",
        "        loss_log = []\n",
        "        criterion = nn.CrossEntropyLoss()\n",
        "\n",
        "        for e in range(epochs):\n",
        "            random.shuffle(vocab)\n",
        "            num_iter = len(vocab) // batch_size\n",
        "\n",
        "            for i in range(num_iter):\n",
        "                optimizer.zero_grad()\n",
        "                total_loss = 0\n",
        "                vocab_batch = vocab[i * batch_size: (i + 1) * batch_size]\n",
        "\n",
        "                for word in vocab_batch:\n",
        "                    hidden_state, cell_state = self.initial_state()\n",
        "                    input_word = torch.tensor([char_to_num(c) for c in word[:-1]], dtype=torch.long)\n",
        "                    target_word = torch.tensor([char_to_num(c) for c in word[1:]], dtype=torch.long)\n",
        "\n",
        "                    for c in range(WORD_SIZE - 1):\n",
        "                        output, hidden_state, cell_state = self.forward(input_word[c], hidden_state, cell_state)\n",
        "                        loss = F.cross_entropy(output.view(1, -1), target_word[c].view(-1))\n",
        "                        total_loss += loss\n",
        "\n",
        "\n",
        "                total_loss /= batch_size\n",
        "                total_loss.backward()\n",
        "                optimizer.step()\n",
        "                loss_log.append(loss.item())\n",
        "\n",
        "            print(\"Epoch: \", e)\n",
        "\n",
        "        plt.plot(loss_log)\n",
        "        plt.xlabel('Iterations')\n",
        "        plt.ylabel('Loss')\n",
        "        plt.title('Loss variation over training')\n",
        "        plt.show()\n",
        "\n",
        "    def autocomplete(self, sample):\n",
        "        self.eval()\n",
        "        completed_list = []\n",
        "\n",
        "        for literal in sample:\n",
        "            hidden_state, cell_state = self.initial_state()\n",
        "            input_chars = torch.tensor([char_to_num(c) for c in literal], dtype=torch.long)\n",
        "\n",
        "            for c in input_chars:\n",
        "                output, hidden_state, cell_state = self.forward(c, hidden_state, cell_state)\n",
        "\n",
        "            for _ in range(WORD_SIZE - len(literal)):\n",
        "                output = F.softmax(output, dim=0)\n",
        "                next_char = torch.multinomial(output, 1).item()\n",
        "                literal += num_to_char(next_char)\n",
        "                output, hidden_state, cell_state = self.forward(torch.tensor([next_char]), hidden_state, cell_state)\n",
        "\n",
        "            completed_list.append(literal)\n",
        "\n",
        "        return(completed_list)"
      ]
    },
    {
      "cell_type": "markdown",
      "id": "1f9b5489-b770-4519-b20c-4f2beebfb8f9",
      "metadata": {
        "id": "1f9b5489-b770-4519-b20c-4f2beebfb8f9"
      },
      "source": [
        "## Section 3: Using and evaluating the model\n",
        "\n",
        "(i) Feel free to initialize a autocompleteModel using different embedding dimensions and hidden layer sizes. Use different learning rates, epochs, batch sizes. Train the best model you can. Show the loss curves in you answers.\n",
        "\n",
        "(ii) Evaluate it on different samples of partially filled in words. Eg: [\"univ\", \"math\", \"neur\", \"engin\"] etc. Please show outputs for different samples.\n",
        "\n",
        "<font color='blue'>Comment on the results. Is it successful? Do you see familiar substrings in the generated tesxt such as \"tion\", \"ing\", \"able\" etc. What are your suggestions to improve the model?</font>"
      ]
    },
    {
      "cell_type": "markdown",
      "id": "76c9ee6e-b6bd-4e6e-95fe-2c34b788d433",
      "metadata": {
        "id": "76c9ee6e-b6bd-4e6e-95fe-2c34b788d433"
      },
      "source": [
        "**Answer** (to write answers edit this cell)"
      ]
    },
    {
      "cell_type": "code",
      "execution_count": null,
      "id": "f6e16d6b-6460-4fce-8757-aac766683e53",
      "metadata": {
        "colab": {
          "base_uri": "https://localhost:8080/",
          "height": 837
        },
        "id": "f6e16d6b-6460-4fce-8757-aac766683e53",
        "outputId": "4478de26-0cca-43fb-a1bf-58058381f715"
      },
      "outputs": [
        {
          "output_type": "stream",
          "name": "stdout",
          "text": [
            "Epoch:  0\n",
            "Epoch:  1\n",
            "Epoch:  2\n",
            "Epoch:  3\n",
            "Epoch:  4\n",
            "Epoch:  5\n",
            "Epoch:  6\n",
            "Epoch:  7\n",
            "Epoch:  8\n",
            "Epoch:  9\n",
            "Epoch:  10\n",
            "Epoch:  11\n",
            "Epoch:  12\n",
            "Epoch:  13\n",
            "Epoch:  14\n",
            "Epoch:  15\n",
            "Epoch:  16\n",
            "Epoch:  17\n",
            "Epoch:  18\n",
            "Epoch:  19\n"
          ]
        },
        {
          "output_type": "display_data",
          "data": {
            "text/plain": [
              "<Figure size 640x480 with 1 Axes>"
            ],
            "image/png": "[encoded data removed]"
          },
          "metadata": {}
        }
      ],
      "source": [
        "alphabet_size = 27\n",
        "embed_dim = 50\n",
        "hidden_size = 128\n",
        "num_layers =1\n",
        "learning_rate = 0.005\n",
        "epochs =20\n",
        "batch_size = 100\n",
        "\n",
        "\n",
        "model = autocompleteModel(alphabet_size, embed_dim, hidden_size, num_layers)\n",
        "model.trainModel(vocab, epochs,batch_size)\n",
        "\n"
      ]
    },
    {
      "cell_type": "code",
      "execution_count": 10,
      "id": "o4DxFEzYf6he",
      "metadata": {
        "colab": {
          "base_uri": "https://localhost:8080/"
        },
        "id": "o4DxFEzYf6he",
        "outputId": "41160efa-9d27-4618-eebe-2f73cfdf98ab"
      },
      "outputs": [
        {
          "output_type": "stream",
          "name": "stdout",
          "text": [
            "Autocompleted words: ['university___', 'mathed_______', 'neurs________', 'engineer_____']\n"
          ]
        }
      ],
      "source": [
        "samples = [\"univ\", \"math\", \"neur\", \"engin\"]\n",
        "completed_words = model.autocomplete(samples)\n",
        "print(\"Autocompleted words:\", completed_words)"
      ]
    },
    {
      "cell_type": "markdown",
      "id": "cLd82HL5TE52",
      "metadata": {
        "id": "cLd82HL5TE52"
      },
      "source": [
        "**Results Overview**\n",
        "\n",
        "* 'university' is a correct and fully completed word from the sample input 'univ', which shows that the model successfully learned some patterns for common words.\n",
        "*   The word 'mathed' seems like a non-existent word, indicating the model might have struggled to predict an appropriate ending for this partial input ('math').\n",
        "\n",
        "*  'neurs' is an incomplete prediction of 'neuroscience' or 'neural', suggesting that the model struggled to complete the word accurately beyond a certain length.\n",
        "*   'engineer' is a good completion of 'engin', which is a common word. The model successfully autocompleted this familiar word.\n",
        "\n",
        "The model is partially successful, especially for commonly used or well-known words like \"university\" and \"engineer\".The result 'engineer' shows a familiar word ending that is often found in the context of engineering terms. It struggles, however, with more uncommon word fragments like 'math' and 'neur', leading to strange completions.\n",
        "\n",
        "**Suggestions for Improvement**\n",
        "\n",
        "\n",
        "\n",
        "*   Increase the Size of the Hidden Layer\n",
        "*   More Epochs for Training\n",
        "*   Use a Larger and More Varied Vocabulary\n",
        "*   Experiment with Different Embedding Dimensions\n",
        "*   Increase Batch Size\n",
        "\n",
        "\n",
        "\n",
        "\n",
        "\n"
      ]
    },
    {
      "cell_type": "code",
      "execution_count": null,
      "id": "rpjfAaNZipou",
      "metadata": {
        "id": "rpjfAaNZipou"
      },
      "outputs": [],
      "source": []
    },
    {
      "cell_type": "code",
      "execution_count": null,
      "id": "arz_-2nGiprE",
      "metadata": {
        "id": "arz_-2nGiprE"
      },
      "outputs": [],
      "source": []
    },
    {
      "cell_type": "code",
      "execution_count": null,
      "id": "nMEyQtP2iptN",
      "metadata": {
        "id": "nMEyQtP2iptN"
      },
      "outputs": [],
      "source": []
    },
    {
      "cell_type": "code",
      "execution_count": null,
      "id": "YhnTL5YWipwX",
      "metadata": {
        "id": "YhnTL5YWipwX"
      },
      "outputs": [],
      "source": []
    }
  ],
  "metadata": {
    "colab": {
      "provenance": []
    },
    "kernelspec": {
      "display_name": "Python 3",
      "language": "python",
      "name": "python3"
    },
    "language_info": {
      "codemirror_mode": {
        "name": "ipython",
        "version": 3
      },
      "file_extension": ".py",
      "mimetype": "text/x-python",
      "name": "python",
      "nbconvert_exporter": "python",
      "pygments_lexer": "ipython3",
      "version": "3.6.8"
    }
  },
  "nbformat": 4,
  "nbformat_minor": 5
}